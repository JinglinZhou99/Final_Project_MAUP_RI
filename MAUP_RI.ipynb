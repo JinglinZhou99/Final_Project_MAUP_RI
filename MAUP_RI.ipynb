{
 "cells": [
  {
   "cell_type": "markdown",
   "metadata": {},
   "source": [
    "@author: eveomett\n",
    "\n",
    "# Final Project: MAUP and data.  See details on Canvas page\n",
    "\n",
    "## Make sure to say where/when you got your data!"
   ]
  },
  {
   "cell_type": "code",
   "execution_count": 1,
   "metadata": {},
   "outputs": [],
   "source": [
    "import pandas as pd\n",
    "import geopandas as gpd\n",
    "import maup\n",
    "from maup import smart_repair\n",
    "import time\n",
    "import os\n",
    "\n",
    "maup.progress.enabled = True"
   ]
  },
  {
   "cell_type": "code",
   "execution_count": 2,
   "metadata": {},
   "outputs": [],
   "source": [
    "import warnings\n",
    "warnings.filterwarnings('ignore')"
   ]
  },
  {
   "cell_type": "code",
   "execution_count": 3,
   "metadata": {},
   "outputs": [],
   "source": [
    "maup.progress.enabled = True"
   ]
  },
  {
   "cell_type": "code",
   "execution_count": 4,
   "metadata": {},
   "outputs": [
    {
     "name": "stdout",
     "output_type": "stream",
     "text": [
      "The time to import ri_pl2020_p2_b.shp is: 0.05206645329793294 mins\n"
     ]
    }
   ],
   "source": [
    "# Import and Explore the Data\n",
    "start_time = time.time()\n",
    "population_df = gpd.read_file(\"./ri_data/ri_pl2020_b/ri_pl2020_p2_b.shp\")\n",
    "end_time = time.time()\n",
    "print(\"The time to import ri_pl2020_p2_b.shp is:\",\n",
    "      (end_time-start_time)/60, \"mins\")"
   ]
  },
  {
   "cell_type": "code",
   "execution_count": 5,
   "metadata": {},
   "outputs": [
    {
     "name": "stdout",
     "output_type": "stream",
     "text": [
      "The time to import ri_pl2020_p4_b.shp is: 0.05169211626052857 mins\n"
     ]
    }
   ],
   "source": [
    "start_time = time.time()\n",
    "vap_df= gpd.read_file(\"./ri_data/ri_pl2020_b/ri_pl2020_p4_b.shp\")\n",
    "end_time = time.time()\n",
    "print(\"The time to import ri_pl2020_p4_b.shp is:\",\n",
    "      (end_time-start_time)/60, \"mins\")"
   ]
  },
  {
   "cell_type": "code",
   "execution_count": 6,
   "metadata": {},
   "outputs": [
    {
     "name": "stdout",
     "output_type": "stream",
     "text": [
      "The time to import ri_vest_20.shp is: 0.0018500328063964845 mins\n"
     ]
    }
   ],
   "source": [
    "start_time = time.time()\n",
    "vest20_df = gpd.read_file(\"./ri_data/ri_vest_20/ri_vest_20.shp\")\n",
    "end_time = time.time()\n",
    "print(\"The time to import ri_vest_20.shp is:\",\n",
    "      (end_time-start_time)/60, \"mins\")"
   ]
  },
  {
   "cell_type": "code",
   "execution_count": 7,
   "metadata": {},
   "outputs": [
    {
     "name": "stdout",
     "output_type": "stream",
     "text": [
      "The time to import ri_vest_18.shp is: 0.0026931524276733398 mins\n"
     ]
    }
   ],
   "source": [
    "start_time = time.time()\n",
    "vest18_df = gpd.read_file(\"./ri_data/ri_vest_18/ri_vest_18.shp\")\n",
    "end_time = time.time()\n",
    "print(\"The time to import ri_vest_18.shp is:\",\n",
    "      (end_time-start_time)/60, \"mins\")"
   ]
  },
  {
   "cell_type": "code",
   "execution_count": 8,
   "metadata": {},
   "outputs": [
    {
     "name": "stdout",
     "output_type": "stream",
     "text": [
      "The time to import ri_pl2020_cnty.shp is: 0.00029525359471639 mins\n"
     ]
    }
   ],
   "source": [
    "start_time = time.time()\n",
    "county_df = gpd.read_file(\"./ri_data/ri_pl2020_cnty/ri_pl2020_cnty.shp\")\n",
    "end_time = time.time()\n",
    "print(\"The time to import ri_pl2020_cnty.shp is:\",\n",
    "      (end_time-start_time)/60, \"mins\")"
   ]
  },
  {
   "cell_type": "code",
   "execution_count": 9,
   "metadata": {},
   "outputs": [
    {
     "name": "stdout",
     "output_type": "stream",
     "text": [
      "The time to import state house districts is: 0.0010271827379862467 mins\n"
     ]
    }
   ],
   "source": [
    "start_time = time.time()\n",
    "house_df = gpd.read_file(\"./ri_data/ri_sldl_adopted_2022/RI_House_D_SubA.shp\")\n",
    "end_time = time.time()\n",
    "print(\"The time to import state house districts is:\",\n",
    "      (end_time-start_time)/60, \"mins\")"
   ]
  },
  {
   "cell_type": "code",
   "execution_count": 10,
   "metadata": {},
   "outputs": [
    {
     "data": {
      "text/plain": [
       "(75, 4)"
      ]
     },
     "execution_count": 10,
     "metadata": {},
     "output_type": "execute_result"
    }
   ],
   "source": [
    "house_df.shape"
   ]
  },
  {
   "cell_type": "code",
   "execution_count": 11,
   "metadata": {},
   "outputs": [
    {
     "name": "stdout",
     "output_type": "stream",
     "text": [
      "Index(['GEOID20', 'SUMLEV', 'LOGRECNO', 'GEOID', 'COUNTY', 'P0020001',\n",
      "       'P0020002', 'P0020003', 'P0020004', 'P0020005', 'P0020006', 'P0020007',\n",
      "       'P0020008', 'P0020009', 'P0020010', 'P0020011', 'P0020012', 'P0020013',\n",
      "       'P0020014', 'P0020015', 'P0020016', 'P0020017', 'P0020018', 'P0020019',\n",
      "       'P0020020', 'P0020021', 'P0020022', 'P0020023', 'P0020024', 'P0020025',\n",
      "       'P0020026', 'P0020027', 'P0020028', 'P0020029', 'P0020030', 'P0020031',\n",
      "       'P0020032', 'P0020033', 'P0020034', 'P0020035', 'P0020036', 'P0020037',\n",
      "       'P0020038', 'P0020039', 'P0020040', 'P0020041', 'P0020042', 'P0020043',\n",
      "       'P0020044', 'P0020045', 'P0020046', 'P0020047', 'P0020048', 'P0020049',\n",
      "       'P0020050', 'P0020051', 'P0020052', 'P0020053', 'P0020054', 'P0020055',\n",
      "       'P0020056', 'P0020057', 'P0020058', 'P0020059', 'P0020060', 'P0020061',\n",
      "       'P0020062', 'P0020063', 'P0020064', 'P0020065', 'P0020066', 'P0020067',\n",
      "       'P0020068', 'P0020069', 'P0020070', 'P0020071', 'P0020072', 'P0020073',\n",
      "       'geometry'],\n",
      "      dtype='object')\n",
      "Index(['GEOID20', 'SUMLEV', 'LOGRECNO', 'GEOID', 'COUNTY', 'P0040001',\n",
      "       'P0040002', 'P0040003', 'P0040004', 'P0040005', 'P0040006', 'P0040007',\n",
      "       'P0040008', 'P0040009', 'P0040010', 'P0040011', 'P0040012', 'P0040013',\n",
      "       'P0040014', 'P0040015', 'P0040016', 'P0040017', 'P0040018', 'P0040019',\n",
      "       'P0040020', 'P0040021', 'P0040022', 'P0040023', 'P0040024', 'P0040025',\n",
      "       'P0040026', 'P0040027', 'P0040028', 'P0040029', 'P0040030', 'P0040031',\n",
      "       'P0040032', 'P0040033', 'P0040034', 'P0040035', 'P0040036', 'P0040037',\n",
      "       'P0040038', 'P0040039', 'P0040040', 'P0040041', 'P0040042', 'P0040043',\n",
      "       'P0040044', 'P0040045', 'P0040046', 'P0040047', 'P0040048', 'P0040049',\n",
      "       'P0040050', 'P0040051', 'P0040052', 'P0040053', 'P0040054', 'P0040055',\n",
      "       'P0040056', 'P0040057', 'P0040058', 'P0040059', 'P0040060', 'P0040061',\n",
      "       'P0040062', 'P0040063', 'P0040064', 'P0040065', 'P0040066', 'P0040067',\n",
      "       'P0040068', 'P0040069', 'P0040070', 'P0040071', 'P0040072', 'P0040073',\n",
      "       'geometry'],\n",
      "      dtype='object')\n",
      "Index(['STATEFP20', 'COUNTYFP20', 'VTDST20', 'GEOID20', 'NAME20', 'G18USSDWHI',\n",
      "       'G18USSRFLA', 'G18USSOWRI', 'G18GOVDRAI', 'G18GOVRFUN', 'G18GOVITRI',\n",
      "       'G18GOVIMUN', 'G18GOVOGIL', 'G18GOVOARM', 'G18GOVOWRI', 'G18LTGDMCK',\n",
      "       'G18LTGRPEN', 'G18LTGIRIC', 'G18LTGIMCC', 'G18LTGOHEL', 'G18LTGOWRI',\n",
      "       'G18ATGDNER', 'G18ATGOGOR', 'G18ATGOWRI', 'G18TREDMAG', 'G18TRERRIL',\n",
      "       'G18TREOWRI', 'G18SOSDGOR', 'G18SOSRCOR', 'G18SOSOWRI', 'geometry'],\n",
      "      dtype='object')\n",
      "Index(['STATEFP20', 'COUNTYFP20', 'VTDST20', 'GEOID20', 'NAME20', 'G20PREDBID',\n",
      "       'G20PRERTRU', 'G20PRELJOR', 'G20PREOFUE', 'G20PREOLAR', 'G20PREOCAR',\n",
      "       'G20PREOWRI', 'G20USSDREE', 'G20USSRWAT', 'G20USSOWRI', 'geometry'],\n",
      "      dtype='object')\n",
      "Index(['STATEFP20', 'COUNTYFP20', 'COUNTYNS20', 'GEOID20', 'NAME20',\n",
      "       'NAMELSAD20', 'LSAD20', 'CLASSFP20', 'MTFCC20', 'CSAFP20',\n",
      "       ...\n",
      "       'P0050002', 'P0050003', 'P0050004', 'P0050005', 'P0050006', 'P0050007',\n",
      "       'P0050008', 'P0050009', 'P0050010', 'geometry'],\n",
      "      dtype='object', length=348)\n",
      "Index(['ID', 'DISTRICT', 'DISTRICTN', 'geometry'], dtype='object')\n"
     ]
    }
   ],
   "source": [
    "print(population_df.columns)\n",
    "print(vap_df.columns)\n",
    "print(vest18_df.columns)\n",
    "print(vest20_df.columns)\n",
    "print(county_df.columns)\n",
    "print(house_df.columns)"
   ]
  },
  {
   "cell_type": "code",
   "execution_count": 12,
   "metadata": {},
   "outputs": [
    {
     "name": "stdout",
     "output_type": "stream",
     "text": [
      "   ID DISTRICT  DISTRICTN                                           geometry\n",
      "0   1        1          1  POLYGON ((-71.39259 41.83663, -71.39181 41.836...\n",
      "1   2        2          2  POLYGON ((-71.39548 41.82762, -71.39548 41.828...\n",
      "2   3        3          3  POLYGON ((-71.43307 41.84743, -71.43279 41.848...\n",
      "3   4        4          4  POLYGON ((-71.41384 41.83481, -71.41487 41.836...\n",
      "4   5        5          5  POLYGON ((-71.43045 41.83623, -71.43059 41.836...\n"
     ]
    }
   ],
   "source": [
    "print(house_df.head())"
   ]
  },
  {
   "cell_type": "code",
   "execution_count": 13,
   "metadata": {},
   "outputs": [],
   "source": [
    "district_col_name = \"DISTRICT\""
   ]
  },
  {
   "cell_type": "code",
   "execution_count": 14,
   "metadata": {},
   "outputs": [],
   "source": [
    "population_df = population_df.to_crs(population_df.estimate_utm_crs())\n",
    "vap_df = vap_df.to_crs(vap_df.estimate_utm_crs())\n",
    "county_df = county_df.to_crs(county_df.estimate_utm_crs())\n",
    "house_df = house_df.to_crs(house_df.estimate_utm_crs())\n",
    "vest18_df = vest18_df.to_crs(vest18_df.estimate_utm_crs())\n",
    "vest20_df = vest20_df.to_crs(vest20_df.estimate_utm_crs())"
   ]
  },
  {
   "cell_type": "code",
   "execution_count": 15,
   "metadata": {},
   "outputs": [
    {
     "name": "stderr",
     "output_type": "stream",
     "text": [
      "100%|███████████████████████████████████| 25649/25649 [00:08<00:00, 2927.58it/s]\n"
     ]
    },
    {
     "data": {
      "text/plain": [
       "True"
      ]
     },
     "execution_count": 15,
     "metadata": {},
     "output_type": "execute_result"
    }
   ],
   "source": [
    "maup.doctor(population_df)"
   ]
  },
  {
   "cell_type": "code",
   "execution_count": 16,
   "metadata": {},
   "outputs": [
    {
     "name": "stderr",
     "output_type": "stream",
     "text": [
      "100%|███████████████████████████████████| 25649/25649 [00:08<00:00, 2939.24it/s]\n"
     ]
    },
    {
     "data": {
      "text/plain": [
       "True"
      ]
     },
     "execution_count": 16,
     "metadata": {},
     "output_type": "execute_result"
    }
   ],
   "source": [
    "maup.doctor(vap_df)"
   ]
  },
  {
   "cell_type": "code",
   "execution_count": 17,
   "metadata": {},
   "outputs": [
    {
     "name": "stderr",
     "output_type": "stream",
     "text": [
      "100%|████████████████████████████████████████████| 5/5 [00:00<00:00, 515.45it/s]\n"
     ]
    },
    {
     "data": {
      "text/plain": [
       "True"
      ]
     },
     "execution_count": 17,
     "metadata": {},
     "output_type": "execute_result"
    }
   ],
   "source": [
    "maup.doctor(county_df)"
   ]
  },
  {
   "cell_type": "code",
   "execution_count": 18,
   "metadata": {},
   "outputs": [
    {
     "name": "stderr",
     "output_type": "stream",
     "text": [
      "100%|██████████████████████████████████████████| 75/75 [00:00<00:00, 682.00it/s]\n"
     ]
    },
    {
     "name": "stdout",
     "output_type": "stream",
     "text": [
      "There are 152 overlaps.\n",
      "There are 2342 holes.\n"
     ]
    },
    {
     "data": {
      "text/plain": [
       "False"
      ]
     },
     "execution_count": 18,
     "metadata": {},
     "output_type": "execute_result"
    }
   ],
   "source": [
    "maup.doctor(house_df)"
   ]
  },
  {
   "cell_type": "code",
   "execution_count": 19,
   "metadata": {},
   "outputs": [
    {
     "name": "stderr",
     "output_type": "stream",
     "text": [
      "100%|███████████████████████████████████████| 423/423 [00:00<00:00, 1332.33it/s]\n"
     ]
    },
    {
     "data": {
      "text/plain": [
       "True"
      ]
     },
     "execution_count": 19,
     "metadata": {},
     "output_type": "execute_result"
    }
   ],
   "source": [
    "maup.doctor(vest18_df)"
   ]
  },
  {
   "cell_type": "code",
   "execution_count": 20,
   "metadata": {},
   "outputs": [
    {
     "name": "stderr",
     "output_type": "stream",
     "text": [
      "100%|███████████████████████████████████████| 423/423 [00:00<00:00, 1345.04it/s]\n"
     ]
    },
    {
     "data": {
      "text/plain": [
       "True"
      ]
     },
     "execution_count": 20,
     "metadata": {},
     "output_type": "execute_result"
    }
   ],
   "source": [
    "maup.doctor(vest20_df)"
   ]
  },
  {
   "cell_type": "code",
   "execution_count": 21,
   "metadata": {},
   "outputs": [
    {
     "name": "stdout",
     "output_type": "stream",
     "text": [
      "Snapping all geometries to a grid with precision 10^( -5 ) to avoid GEOS errors.\n",
      "Identifying overlaps...\n"
     ]
    },
    {
     "name": "stderr",
     "output_type": "stream",
     "text": [
      "100%|█████████████████████████████████████| 4768/4768 [00:01<00:00, 3599.46it/s]\n"
     ]
    },
    {
     "name": "stdout",
     "output_type": "stream",
     "text": [
      "Resolving overlaps...\n",
      "Assigning order 2 pieces...\n",
      "Filling gaps...\n"
     ]
    },
    {
     "name": "stderr",
     "output_type": "stream",
     "text": [
      "Gaps to simplify: 100%|█████████████████████| 2317/2317 [01:16<00:00, 30.39it/s]\n",
      "Gaps to fill: 100%|█████████████████████████████| 34/34 [00:01<00:00, 32.48it/s]\n"
     ]
    }
   ],
   "source": [
    "# Perform smart repair\n",
    "repaired_house_df = smart_repair(house_df)"
   ]
  },
  {
   "cell_type": "code",
   "execution_count": 22,
   "metadata": {},
   "outputs": [
    {
     "name": "stdout",
     "output_type": "stream",
     "text": [
      "Snapping all geometries to a grid with precision 10^( -5 ) to avoid GEOS errors.\n",
      "Identifying overlaps...\n"
     ]
    },
    {
     "name": "stderr",
     "output_type": "stream",
     "text": [
      "100%|█████████████████████████████████████████| 76/76 [00:00<00:00, 3123.58it/s]\n"
     ]
    },
    {
     "name": "stdout",
     "output_type": "stream",
     "text": [
      "Resolving overlaps...\n",
      "Filling gaps...\n"
     ]
    },
    {
     "name": "stderr",
     "output_type": "stream",
     "text": [
      "Gaps to simplify: 0it [00:00, ?it/s]\n",
      "Gaps to fill: 0it [00:00, ?it/s]\n"
     ]
    },
    {
     "name": "stdout",
     "output_type": "stream",
     "text": [
      "Converting small rook adjacencies to queen...\n"
     ]
    },
    {
     "name": "stderr",
     "output_type": "stream",
     "text": [
      "100%|██████████████████████████████████████████| 75/75 [00:00<00:00, 612.43it/s]\n",
      "100%|███████████████████████████████████████████| 5/5 [00:00<00:00, 2464.63it/s]\n",
      "100%|███████████████████████████████████████████| 4/4 [00:00<00:00, 2939.25it/s]\n"
     ]
    }
   ],
   "source": [
    "repaired_house_df = smart_repair(repaired_house_df, min_rook_length = 30)"
   ]
  },
  {
   "cell_type": "code",
   "execution_count": 23,
   "metadata": {},
   "outputs": [
    {
     "name": "stderr",
     "output_type": "stream",
     "text": [
      "100%|██████████████████████████████████████████| 75/75 [00:00<00:00, 559.27it/s]\n"
     ]
    },
    {
     "name": "stdout",
     "output_type": "stream",
     "text": [
      "True\n"
     ]
    }
   ],
   "source": [
    "print(maup.doctor(repaired_house_df))"
   ]
  },
  {
   "cell_type": "code",
   "execution_count": 24,
   "metadata": {},
   "outputs": [
    {
     "name": "stderr",
     "output_type": "stream",
     "text": [
      "100%|████████████████████████████████████████| 423/423 [00:01<00:00, 346.22it/s]\n",
      "100%|███████████████████████████████████████| 423/423 [00:00<00:00, 6067.81it/s]\n",
      "100%|████████████████████████████████████████| 423/423 [00:01<00:00, 361.92it/s]\n",
      "100%|███████████████████████████████████████| 423/423 [00:00<00:00, 6121.11it/s]\n"
     ]
    }
   ],
   "source": [
    "# Put data in same geometry units\n",
    "blocks_to_precincts_assignment = maup.assign(population_df.geometry, vest20_df.geometry)\n",
    "vap_blocks_to_precincts_assignment = maup.assign(vap_df.geometry, vest20_df.geometry)"
   ]
  },
  {
   "cell_type": "code",
   "execution_count": 25,
   "metadata": {},
   "outputs": [
    {
     "data": {
      "text/plain": [
       "0         89\n",
       "1        109\n",
       "2        116\n",
       "3        113\n",
       "4         89\n",
       "        ... \n",
       "25644     19\n",
       "25645     31\n",
       "25646     31\n",
       "25647     14\n",
       "25648     29\n",
       "Length: 25649, dtype: int64"
      ]
     },
     "execution_count": 25,
     "metadata": {},
     "output_type": "execute_result"
    }
   ],
   "source": [
    "blocks_to_precincts_assignment"
   ]
  },
  {
   "cell_type": "code",
   "execution_count": 26,
   "metadata": {},
   "outputs": [],
   "source": [
    "pop_column_names = ['P0020001', 'P0020002', 'P0020005', 'P0020006', 'P0020007',\n",
    "                    'P0020008', 'P0020009', 'P0020010', 'P0020011']"
   ]
  },
  {
   "cell_type": "code",
   "execution_count": 27,
   "metadata": {},
   "outputs": [],
   "source": [
    "vap_column_names = ['P0040001', 'P0040002', 'P0040005', 'P0040006', 'P0040007',\n",
    "                    'P0040008', 'P0040009', 'P0040010', 'P0040011']"
   ]
  },
  {
   "cell_type": "code",
   "execution_count": 28,
   "metadata": {},
   "outputs": [],
   "source": [
    "for name in pop_column_names:\n",
    "    vest20_df[name] = population_df[name].groupby(blocks_to_precincts_assignment).sum()\n",
    "for name in vap_column_names:\n",
    "    vest20_df[name] = vap_df[name].groupby(vap_blocks_to_precincts_assignment).sum()"
   ]
  },
  {
   "cell_type": "code",
   "execution_count": 29,
   "metadata": {},
   "outputs": [
    {
     "name": "stdout",
     "output_type": "stream",
     "text": [
      "1097379\n",
      "1097379\n",
      "887594\n",
      "887594\n"
     ]
    }
   ],
   "source": [
    "print(population_df['P0020001'].sum())\n",
    "print(vest20_df['P0020001'].sum())\n",
    "print(vap_df['P0040001'].sum())\n",
    "print(vest20_df['P0040001'].sum())"
   ]
  },
  {
   "cell_type": "code",
   "execution_count": 30,
   "metadata": {},
   "outputs": [],
   "source": [
    "rename_dict = {'P0020001': 'TOTPOP', 'P0020002': 'HISP', 'P0020005': 'NH_WHITE', 'P0020006': 'NH_BLACK', 'P0020007': 'NH_AMIN',\n",
    "                    'P0020008': 'NH_ASIAN', 'P0020009': 'NH_NHPI', 'P0020010': 'NH_OTHER', 'P0020011': 'NH_2MORE',\n",
    "                    'P0040001': 'VAP', 'P0040002': 'HVAP', 'P0040005': 'WVAP', 'P0040006': 'BVAP', 'P0040007': 'AMINVAP',\n",
    "                                        'P0040008': 'ASIANVAP', 'P0040009': 'NHPIVAP', 'P0040010': 'OTHERVAP', 'P0040011': '2MOREVAP',\n",
    "                                        'G20PREDBID': 'G20PRED', 'G20PRERTRU': 'G20PRER', 'G20USSDREE': 'G20USSD', \n",
    "                                        'G20USSRWAT': 'G20USSR'}"
   ]
  },
  {
   "cell_type": "code",
   "execution_count": 31,
   "metadata": {},
   "outputs": [
    {
     "data": {
      "text/plain": [
       "Index(['STATEFP20', 'COUNTYFP20', 'VTDST20', 'GEOID20', 'NAME20', 'G20PREDBID',\n",
       "       'G20PRERTRU', 'G20PRELJOR', 'G20PREOFUE', 'G20PREOLAR', 'G20PREOCAR',\n",
       "       'G20PREOWRI', 'G20USSDREE', 'G20USSRWAT', 'G20USSOWRI', 'geometry',\n",
       "       'P0020001', 'P0020002', 'P0020005', 'P0020006', 'P0020007', 'P0020008',\n",
       "       'P0020009', 'P0020010', 'P0020011', 'P0040001', 'P0040002', 'P0040005',\n",
       "       'P0040006', 'P0040007', 'P0040008', 'P0040009', 'P0040010', 'P0040011'],\n",
       "      dtype='object')"
      ]
     },
     "execution_count": 31,
     "metadata": {},
     "output_type": "execute_result"
    }
   ],
   "source": [
    "vest20_df.columns"
   ]
  },
  {
   "cell_type": "code",
   "execution_count": 32,
   "metadata": {},
   "outputs": [],
   "source": [
    "vest20_df.rename(columns=rename_dict, inplace = True)"
   ]
  },
  {
   "cell_type": "code",
   "execution_count": 33,
   "metadata": {},
   "outputs": [
    {
     "data": {
      "text/plain": [
       "Index(['STATEFP20', 'COUNTYFP20', 'VTDST20', 'GEOID20', 'NAME20', 'G20PRED',\n",
       "       'G20PRER', 'G20PRELJOR', 'G20PREOFUE', 'G20PREOLAR', 'G20PREOCAR',\n",
       "       'G20PREOWRI', 'G20USSD', 'G20USSR', 'G20USSOWRI', 'geometry', 'TOTPOP',\n",
       "       'HISP', 'NH_WHITE', 'NH_BLACK', 'NH_AMIN', 'NH_ASIAN', 'NH_NHPI',\n",
       "       'NH_OTHER', 'NH_2MORE', 'VAP', 'HVAP', 'WVAP', 'BVAP', 'AMINVAP',\n",
       "       'ASIANVAP', 'NHPIVAP', 'OTHERVAP', '2MOREVAP'],\n",
       "      dtype='object')"
      ]
     },
     "execution_count": 33,
     "metadata": {},
     "output_type": "execute_result"
    }
   ],
   "source": [
    "vest20_df.columns"
   ]
  },
  {
   "cell_type": "code",
   "execution_count": 34,
   "metadata": {},
   "outputs": [
    {
     "data": {
      "text/plain": [
       "Index(['STATEFP20', 'COUNTYFP20', 'VTDST20', 'GEOID20', 'NAME20', 'G20PRED',\n",
       "       'G20PRER', 'G20USSD', 'G20USSR', 'geometry', 'TOTPOP', 'HISP',\n",
       "       'NH_WHITE', 'NH_BLACK', 'NH_AMIN', 'NH_ASIAN', 'NH_NHPI', 'NH_OTHER',\n",
       "       'NH_2MORE', 'VAP', 'HVAP', 'WVAP', 'BVAP', 'AMINVAP', 'ASIANVAP',\n",
       "       'NHPIVAP', 'OTHERVAP', '2MOREVAP'],\n",
       "      dtype='object')"
      ]
     },
     "execution_count": 34,
     "metadata": {},
     "output_type": "execute_result"
    }
   ],
   "source": [
    "vest20_df.drop(columns=['G20PRELJOR','G20PREOLAR','G20PREOCAR','G20PREOWRI','G20PREOFUE','G20USSOWRI'], inplace=True)\n",
    "vest20_df.columns"
   ]
  },
  {
   "cell_type": "code",
   "execution_count": 35,
   "metadata": {},
   "outputs": [],
   "source": [
    "vap_df.rename(columns=rename_dict, inplace = True)"
   ]
  },
  {
   "cell_type": "code",
   "execution_count": 36,
   "metadata": {},
   "outputs": [
    {
     "name": "stderr",
     "output_type": "stream",
     "text": [
      "100%|████████████████████████████████████████| 423/423 [00:01<00:00, 348.48it/s]\n",
      "100%|███████████████████████████████████████| 423/423 [00:00<00:00, 6061.46it/s]\n"
     ]
    }
   ],
   "source": [
    "blocks_to_2018precincts_assignment = maup.assign(population_df.geometry, vest18_df.geometry)"
   ]
  },
  {
   "cell_type": "code",
   "execution_count": 37,
   "metadata": {},
   "outputs": [],
   "source": [
    "weights2018 = vap_df[\"VAP\"]/blocks_to_2018precincts_assignment.map(vap_df[\"VAP\"].groupby(blocks_to_2018precincts_assignment).sum())\n",
    "weights2018 = weights2018.fillna(0)"
   ]
  },
  {
   "cell_type": "code",
   "execution_count": 42,
   "metadata": {},
   "outputs": [
    {
     "data": {
      "text/html": [
       "<div>\n",
       "<style scoped>\n",
       "    .dataframe tbody tr th:only-of-type {\n",
       "        vertical-align: middle;\n",
       "    }\n",
       "\n",
       "    .dataframe tbody tr th {\n",
       "        vertical-align: top;\n",
       "    }\n",
       "\n",
       "    .dataframe thead th {\n",
       "        text-align: right;\n",
       "    }\n",
       "</style>\n",
       "<table border=\"1\" class=\"dataframe\">\n",
       "  <thead>\n",
       "    <tr style=\"text-align: right;\">\n",
       "      <th></th>\n",
       "      <th>STATEFP20</th>\n",
       "      <th>COUNTYFP20</th>\n",
       "      <th>VTDST20</th>\n",
       "      <th>GEOID20</th>\n",
       "      <th>NAME20</th>\n",
       "      <th>G20PRED</th>\n",
       "      <th>G20PRER</th>\n",
       "      <th>G20USSD</th>\n",
       "      <th>G20USSR</th>\n",
       "      <th>geometry</th>\n",
       "      <th>...</th>\n",
       "      <th>G18LTGOWRI</th>\n",
       "      <th>G18ATGDNER</th>\n",
       "      <th>G18ATGOGOR</th>\n",
       "      <th>G18ATGOWRI</th>\n",
       "      <th>G18TREDMAG</th>\n",
       "      <th>G18TRERRIL</th>\n",
       "      <th>G18TREOWRI</th>\n",
       "      <th>G18SOSDGOR</th>\n",
       "      <th>G18SOSRCOR</th>\n",
       "      <th>G18SOSOWRI</th>\n",
       "    </tr>\n",
       "  </thead>\n",
       "  <tbody>\n",
       "    <tr>\n",
       "      <th>0</th>\n",
       "      <td>44</td>\n",
       "      <td>009</td>\n",
       "      <td>443208</td>\n",
       "      <td>44009443208</td>\n",
       "      <td>South Kingstown 8</td>\n",
       "      <td>1562</td>\n",
       "      <td>839</td>\n",
       "      <td>1615</td>\n",
       "      <td>762</td>\n",
       "      <td>POLYGON ((282137.751 4587999.409, 282184.655 4...</td>\n",
       "      <td>...</td>\n",
       "      <td>0.000000</td>\n",
       "      <td>0.000000</td>\n",
       "      <td>0.000000</td>\n",
       "      <td>0.000000</td>\n",
       "      <td>0.000000</td>\n",
       "      <td>0.000000</td>\n",
       "      <td>0.000000</td>\n",
       "      <td>0.000000</td>\n",
       "      <td>0.000000</td>\n",
       "      <td>0.000000</td>\n",
       "    </tr>\n",
       "    <tr>\n",
       "      <th>1</th>\n",
       "      <td>44</td>\n",
       "      <td>007</td>\n",
       "      <td>440724</td>\n",
       "      <td>44007440724</td>\n",
       "      <td>Cranston 24</td>\n",
       "      <td>1322</td>\n",
       "      <td>290</td>\n",
       "      <td>1310</td>\n",
       "      <td>271</td>\n",
       "      <td>POLYGON ((300198.309 4627393.802, 300267.466 4...</td>\n",
       "      <td>...</td>\n",
       "      <td>0.162355</td>\n",
       "      <td>11.898305</td>\n",
       "      <td>2.922391</td>\n",
       "      <td>0.162355</td>\n",
       "      <td>10.297948</td>\n",
       "      <td>5.752007</td>\n",
       "      <td>0.000000</td>\n",
       "      <td>11.156111</td>\n",
       "      <td>4.986619</td>\n",
       "      <td>0.000000</td>\n",
       "    </tr>\n",
       "    <tr>\n",
       "      <th>2</th>\n",
       "      <td>44</td>\n",
       "      <td>005</td>\n",
       "      <td>ZZZZZZ</td>\n",
       "      <td>44005ZZZZZZ</td>\n",
       "      <td>Voting Districts Not Defined</td>\n",
       "      <td>0</td>\n",
       "      <td>0</td>\n",
       "      <td>0</td>\n",
       "      <td>0</td>\n",
       "      <td>POLYGON ((289927.971 4575956.908, 290181.441 4...</td>\n",
       "      <td>...</td>\n",
       "      <td>0.030381</td>\n",
       "      <td>16.967899</td>\n",
       "      <td>4.466036</td>\n",
       "      <td>0.273431</td>\n",
       "      <td>15.220980</td>\n",
       "      <td>8.096589</td>\n",
       "      <td>0.015191</td>\n",
       "      <td>16.572944</td>\n",
       "      <td>7.078819</td>\n",
       "      <td>0.000000</td>\n",
       "    </tr>\n",
       "    <tr>\n",
       "      <th>3</th>\n",
       "      <td>44</td>\n",
       "      <td>005</td>\n",
       "      <td>441501</td>\n",
       "      <td>44005441501</td>\n",
       "      <td>JAMESTOWN 1</td>\n",
       "      <td>1547</td>\n",
       "      <td>651</td>\n",
       "      <td>1621</td>\n",
       "      <td>564</td>\n",
       "      <td>POLYGON ((301064.263 4603033.208, 301072.860 4...</td>\n",
       "      <td>...</td>\n",
       "      <td>0.138402</td>\n",
       "      <td>33.677915</td>\n",
       "      <td>10.933789</td>\n",
       "      <td>0.692012</td>\n",
       "      <td>26.988466</td>\n",
       "      <td>21.313968</td>\n",
       "      <td>0.000000</td>\n",
       "      <td>29.525844</td>\n",
       "      <td>19.376335</td>\n",
       "      <td>0.046134</td>\n",
       "    </tr>\n",
       "    <tr>\n",
       "      <th>4</th>\n",
       "      <td>44</td>\n",
       "      <td>005</td>\n",
       "      <td>441502</td>\n",
       "      <td>44005441502</td>\n",
       "      <td>JAMESTOWN 2</td>\n",
       "      <td>1261</td>\n",
       "      <td>562</td>\n",
       "      <td>1344</td>\n",
       "      <td>464</td>\n",
       "      <td>POLYGON ((297695.539 4591433.718, 298103.867 4...</td>\n",
       "      <td>...</td>\n",
       "      <td>0.022406</td>\n",
       "      <td>6.721792</td>\n",
       "      <td>1.428381</td>\n",
       "      <td>0.067218</td>\n",
       "      <td>5.192585</td>\n",
       "      <td>3.837023</td>\n",
       "      <td>0.005601</td>\n",
       "      <td>5.674313</td>\n",
       "      <td>3.288077</td>\n",
       "      <td>0.000000</td>\n",
       "    </tr>\n",
       "  </tbody>\n",
       "</table>\n",
       "<p>5 rows × 53 columns</p>\n",
       "</div>"
      ],
      "text/plain": [
       "  STATEFP20 COUNTYFP20 VTDST20      GEOID20                        NAME20  \\\n",
       "0        44        009  443208  44009443208             South Kingstown 8   \n",
       "1        44        007  440724  44007440724                   Cranston 24   \n",
       "2        44        005  ZZZZZZ  44005ZZZZZZ  Voting Districts Not Defined   \n",
       "3        44        005  441501  44005441501                   JAMESTOWN 1   \n",
       "4        44        005  441502  44005441502                   JAMESTOWN 2   \n",
       "\n",
       "   G20PRED  G20PRER  G20USSD  G20USSR  \\\n",
       "0     1562      839     1615      762   \n",
       "1     1322      290     1310      271   \n",
       "2        0        0        0        0   \n",
       "3     1547      651     1621      564   \n",
       "4     1261      562     1344      464   \n",
       "\n",
       "                                            geometry  ...  G18LTGOWRI  \\\n",
       "0  POLYGON ((282137.751 4587999.409, 282184.655 4...  ...    0.000000   \n",
       "1  POLYGON ((300198.309 4627393.802, 300267.466 4...  ...    0.162355   \n",
       "2  POLYGON ((289927.971 4575956.908, 290181.441 4...  ...    0.030381   \n",
       "3  POLYGON ((301064.263 4603033.208, 301072.860 4...  ...    0.138402   \n",
       "4  POLYGON ((297695.539 4591433.718, 298103.867 4...  ...    0.022406   \n",
       "\n",
       "   G18ATGDNER  G18ATGOGOR  G18ATGOWRI  G18TREDMAG  G18TRERRIL  G18TREOWRI  \\\n",
       "0    0.000000    0.000000    0.000000    0.000000    0.000000    0.000000   \n",
       "1   11.898305    2.922391    0.162355   10.297948    5.752007    0.000000   \n",
       "2   16.967899    4.466036    0.273431   15.220980    8.096589    0.015191   \n",
       "3   33.677915   10.933789    0.692012   26.988466   21.313968    0.000000   \n",
       "4    6.721792    1.428381    0.067218    5.192585    3.837023    0.005601   \n",
       "\n",
       "   G18SOSDGOR  G18SOSRCOR  G18SOSOWRI  \n",
       "0    0.000000    0.000000    0.000000  \n",
       "1   11.156111    4.986619    0.000000  \n",
       "2   16.572944    7.078819    0.000000  \n",
       "3   29.525844   19.376335    0.046134  \n",
       "4    5.674313    3.288077    0.000000  \n",
       "\n",
       "[5 rows x 53 columns]"
      ]
     },
     "execution_count": 42,
     "metadata": {},
     "output_type": "execute_result"
    }
   ],
   "source": [
    "elec2018_cols = ['G18USSDWHI', 'G18USSRFLA', 'G18USSOWRI', 'G18GOVDRAI', 'G18GOVRFUN', \n",
    "                 'G18GOVITRI', 'G18GOVIMUN', 'G18GOVOGIL', 'G18GOVOARM', 'G18GOVOWRI', \n",
    "                 'G18LTGDMCK', 'G18LTGRPEN', 'G18LTGIRIC', 'G18LTGIMCC', 'G18LTGOHEL', \n",
    "                 'G18LTGOWRI', 'G18ATGDNER', 'G18ATGOGOR', 'G18ATGOWRI', 'G18TREDMAG', \n",
    "                 'G18TRERRIL', 'G18TREOWRI', 'G18SOSDGOR', 'G18SOSRCOR', 'G18SOSOWRI']\n",
    "prorated2018 = maup.prorate(blocks_to_2018precincts_assignment, vest18_df[elec2018_cols], weights2018)\n",
    "vest20_df[elec2018_cols] = prorated2018\n",
    "vest20_df.head()"
   ]
  },
  {
   "cell_type": "code",
   "execution_count": 43,
   "metadata": {},
   "outputs": [
    {
     "name": "stderr",
     "output_type": "stream",
     "text": [
      "100%|█████████████████████████████████████████| 75/75 [00:00<00:00, 1254.75it/s]\n",
      "100%|██████████████████████████████████████████| 75/75 [00:00<00:00, 205.73it/s]\n"
     ]
    }
   ],
   "source": [
    "precincts_to_districts_assignment = maup.assign(vest20_df.geometry, repaired_house_df.geometry)\n",
    "vest20_df[\"SEND\"] = precincts_to_districts_assignment"
   ]
  },
  {
   "cell_type": "code",
   "execution_count": 44,
   "metadata": {},
   "outputs": [
    {
     "data": {
      "text/plain": [
       "0      34\n",
       "1      18\n",
       "2      74\n",
       "3      73\n",
       "4      73\n",
       "       ..\n",
       "418     8\n",
       "419     5\n",
       "420    12\n",
       "421     5\n",
       "422     5\n",
       "Length: 423, dtype: int64"
      ]
     },
     "execution_count": 44,
     "metadata": {},
     "output_type": "execute_result"
    }
   ],
   "source": [
    "precincts_to_districts_assignment"
   ]
  },
  {
   "cell_type": "code",
   "execution_count": 45,
   "metadata": {},
   "outputs": [
    {
     "name": "stdout",
     "output_type": "stream",
     "text": [
      "{0, 1, 2, 3, 4, 5, 6, 7, 8, 9, 10, 11, 12, 13, 14, 15, 16, 17, 18, 19, 20, 21, 22, 23, 24, 25, 26, 27, 28, 29, 30, 31, 32, 33, 34, 35, 36, 37, 38, 39, 40, 41, 42, 43, 44, 45, 46, 47, 48, 49, 50, 51, 52, 53, 54, 55, 56, 57, 58, 59, 60, 61, 62, 63, 64, 65, 66, 67, 68, 69, 70, 71, 72, 73, 74}\n"
     ]
    }
   ],
   "source": [
    "print(set(vest20_df[\"SEND\"]))"
   ]
  },
  {
   "cell_type": "code",
   "execution_count": 46,
   "metadata": {},
   "outputs": [
    {
     "data": {
      "text/html": [
       "<div>\n",
       "<style scoped>\n",
       "    .dataframe tbody tr th:only-of-type {\n",
       "        vertical-align: middle;\n",
       "    }\n",
       "\n",
       "    .dataframe tbody tr th {\n",
       "        vertical-align: top;\n",
       "    }\n",
       "\n",
       "    .dataframe thead th {\n",
       "        text-align: right;\n",
       "    }\n",
       "</style>\n",
       "<table border=\"1\" class=\"dataframe\">\n",
       "  <thead>\n",
       "    <tr style=\"text-align: right;\">\n",
       "      <th></th>\n",
       "      <th>ID</th>\n",
       "      <th>DISTRICT</th>\n",
       "      <th>DISTRICTN</th>\n",
       "      <th>geometry</th>\n",
       "    </tr>\n",
       "  </thead>\n",
       "  <tbody>\n",
       "    <tr>\n",
       "      <th>0</th>\n",
       "      <td>1</td>\n",
       "      <td>1</td>\n",
       "      <td>1</td>\n",
       "      <td>POLYGON ((299772.274 4633536.190, 299760.291 4...</td>\n",
       "    </tr>\n",
       "    <tr>\n",
       "      <th>1</th>\n",
       "      <td>2</td>\n",
       "      <td>2</td>\n",
       "      <td>2</td>\n",
       "      <td>POLYGON ((299760.291 4633538.638, 299772.274 4...</td>\n",
       "    </tr>\n",
       "    <tr>\n",
       "      <th>2</th>\n",
       "      <td>3</td>\n",
       "      <td>3</td>\n",
       "      <td>3</td>\n",
       "      <td>POLYGON ((299260.151 4633950.305, 299260.151 4...</td>\n",
       "    </tr>\n",
       "    <tr>\n",
       "      <th>3</th>\n",
       "      <td>4</td>\n",
       "      <td>4</td>\n",
       "      <td>4</td>\n",
       "      <td>POLYGON ((300325.685 4636660.699, 300325.685 4...</td>\n",
       "    </tr>\n",
       "    <tr>\n",
       "      <th>4</th>\n",
       "      <td>5</td>\n",
       "      <td>5</td>\n",
       "      <td>5</td>\n",
       "      <td>POLYGON ((298193.849 4634449.249, 298189.251 4...</td>\n",
       "    </tr>\n",
       "    <tr>\n",
       "      <th>...</th>\n",
       "      <td>...</td>\n",
       "      <td>...</td>\n",
       "      <td>...</td>\n",
       "      <td>...</td>\n",
       "    </tr>\n",
       "    <tr>\n",
       "      <th>70</th>\n",
       "      <td>71</td>\n",
       "      <td>71</td>\n",
       "      <td>71</td>\n",
       "      <td>POLYGON ((314772.850 4615066.348, 314797.632 4...</td>\n",
       "    </tr>\n",
       "    <tr>\n",
       "      <th>71</th>\n",
       "      <td>72</td>\n",
       "      <td>72</td>\n",
       "      <td>72</td>\n",
       "      <td>POLYGON ((309328.559 4607394.626, 309328.559 4...</td>\n",
       "    </tr>\n",
       "    <tr>\n",
       "      <th>72</th>\n",
       "      <td>73</td>\n",
       "      <td>73</td>\n",
       "      <td>73</td>\n",
       "      <td>POLYGON ((308971.366 4595895.962, 309075.084 4...</td>\n",
       "    </tr>\n",
       "    <tr>\n",
       "      <th>73</th>\n",
       "      <td>74</td>\n",
       "      <td>74</td>\n",
       "      <td>74</td>\n",
       "      <td>POLYGON ((301030.608 4608413.659, 301048.676 4...</td>\n",
       "    </tr>\n",
       "    <tr>\n",
       "      <th>74</th>\n",
       "      <td>75</td>\n",
       "      <td>75</td>\n",
       "      <td>75</td>\n",
       "      <td>POLYGON ((296797.225 4589595.914, 296797.225 4...</td>\n",
       "    </tr>\n",
       "  </tbody>\n",
       "</table>\n",
       "<p>75 rows × 4 columns</p>\n",
       "</div>"
      ],
      "text/plain": [
       "    ID DISTRICT  DISTRICTN                                           geometry\n",
       "0    1        1          1  POLYGON ((299772.274 4633536.190, 299760.291 4...\n",
       "1    2        2          2  POLYGON ((299760.291 4633538.638, 299772.274 4...\n",
       "2    3        3          3  POLYGON ((299260.151 4633950.305, 299260.151 4...\n",
       "3    4        4          4  POLYGON ((300325.685 4636660.699, 300325.685 4...\n",
       "4    5        5          5  POLYGON ((298193.849 4634449.249, 298189.251 4...\n",
       "..  ..      ...        ...                                                ...\n",
       "70  71       71         71  POLYGON ((314772.850 4615066.348, 314797.632 4...\n",
       "71  72       72         72  POLYGON ((309328.559 4607394.626, 309328.559 4...\n",
       "72  73       73         73  POLYGON ((308971.366 4595895.962, 309075.084 4...\n",
       "73  74       74         74  POLYGON ((301030.608 4608413.659, 301048.676 4...\n",
       "74  75       75         75  POLYGON ((296797.225 4589595.914, 296797.225 4...\n",
       "\n",
       "[75 rows x 4 columns]"
      ]
     },
     "execution_count": 46,
     "metadata": {},
     "output_type": "execute_result"
    }
   ],
   "source": [
    "repaired_house_df"
   ]
  },
  {
   "cell_type": "code",
   "execution_count": 48,
   "metadata": {},
   "outputs": [
    {
     "name": "stdout",
     "output_type": "stream",
     "text": [
      "{'30', '74', '45', '67', '55', '24', '53', '38', '33', '40', '49', '61', '32', '75', '27', '4', '47', '43', '69', '18', '19', '58', '28', '50', '65', '70', '73', '31', '15', '25', '59', '48', '6', '10', '60', '21', '17', '64', '72', '9', '2', '5', '36', '7', '26', '52', '29', '42', '54', '68', '20', '8', '34', '71', '11', '22', '1', '66', '23', '35', '37', '56', '57', '39', '41', '46', '12', '62', '44', '13', '63', '51', '14', '16', '3'}\n",
      "{'30', '74', '45', '67', '55', '24', '53', '38', '33', '40', '61', '49', '32', '75', '27', '4', '47', '43', '69', '18', '19', '58', '50', '70', '28', '73', '31', '15', '59', '25', '48', '6', '60', '10', '21', '17', '64', '72', '9', '36', '5', '2', '7', '52', '54', '42', '68', '26', '29', '20', '71', '34', '8', '11', '22', '1', '66', '23', '35', '3', '56', '37', '41', '39', '46', '62', '12', '63', '13', '44', '65', '14', '16', '57', '51'}\n"
     ]
    }
   ],
   "source": [
    "for precinct_index in range(len(vest20_df)):\n",
    "    #print(sen_df.at[45, district_col_name])\n",
    "    #print(final_df.at[precinct_index, \"SEND\"])\n",
    "    vest20_df.at[precinct_index, \"SEND\"] = repaired_house_df.at[int(vest20_df.at[precinct_index, \"SEND\"]), district_col_name]\n",
    "print(set(repaired_house_df[district_col_name]))\n",
    "print(set(vest20_df[\"SEND\"]))"
   ]
  },
  {
   "cell_type": "code",
   "execution_count": 49,
   "metadata": {},
   "outputs": [
    {
     "data": {
      "text/plain": [
       "Index(['STATEFP20', 'COUNTYFP20', 'VTDST20', 'GEOID20', 'NAME20', 'G20PRED',\n",
       "       'G20PRER', 'G20USSD', 'G20USSR', 'geometry', 'TOTPOP', 'HISP',\n",
       "       'NH_WHITE', 'NH_BLACK', 'NH_AMIN', 'NH_ASIAN', 'NH_NHPI', 'NH_OTHER',\n",
       "       'NH_2MORE', 'VAP', 'HVAP', 'WVAP', 'BVAP', 'AMINVAP', 'ASIANVAP',\n",
       "       'NHPIVAP', 'OTHERVAP', '2MOREVAP', 'G18USSDWHI', 'G18USSRFLA',\n",
       "       'G18USSOWRI', 'G18GOVDRAI', 'G18GOVRFUN', 'G18GOVITRI', 'G18GOVIMUN',\n",
       "       'G18GOVOGIL', 'G18GOVOARM', 'G18GOVOWRI', 'G18LTGDMCK', 'G18LTGRPEN',\n",
       "       'G18LTGIRIC', 'G18LTGIMCC', 'G18LTGOHEL', 'G18LTGOWRI', 'G18ATGDNER',\n",
       "       'G18ATGOGOR', 'G18ATGOWRI', 'G18TREDMAG', 'G18TRERRIL', 'G18TREOWRI',\n",
       "       'G18SOSDGOR', 'G18SOSRCOR', 'G18SOSOWRI', 'SEND'],\n",
       "      dtype='object')"
      ]
     },
     "execution_count": 49,
     "metadata": {},
     "output_type": "execute_result"
    }
   ],
   "source": [
    "vest20_df.columns"
   ]
  },
  {
   "cell_type": "code",
   "execution_count": 50,
   "metadata": {},
   "outputs": [
    {
     "data": {
      "text/plain": [
       "<Axes: >"
      ]
     },
     "execution_count": 50,
     "metadata": {},
     "output_type": "execute_result"
    },
    {
     "data": {
      "image/png": "[encoded data removed]",
      "text/plain": [
       "<Figure size 640x480 with 1 Axes>"
      ]
     },
     "metadata": {},
     "output_type": "display_data"
    }
   ],
   "source": [
    "vest20_df.plot()"
   ]
  },
  {
   "cell_type": "code",
   "execution_count": 51,
   "metadata": {},
   "outputs": [
    {
     "name": "stdout",
     "output_type": "stream",
     "text": [
      "[15214, 14205, 15042, 14131, 15462, 15320, 15985, 14922, 14396, 14835, 15319, 15612, 14957, 15298, 14081, 15050, 14602, 13688, 13990, 14104, 16072, 13785, 13454, 14263, 14390, 13938, 15229, 14960, 12975, 15699, 15122, 14562, 13972, 13642, 15299, 14551, 14733, 14014, 13944, 15494, 14691, 14770, 14220, 14827, 14963]\n"
     ]
    }
   ],
   "source": [
    "pop_vals = [vest20_df.loc[vest20_df[\"SEND\"] == str(n), \"TOTPOP\"].sum() for n in range(1, 46)]\n",
    "print(pop_vals)"
   ]
  },
  {
   "cell_type": "code",
   "execution_count": 42,
   "metadata": {},
   "outputs": [],
   "source": [
    "directory = \"./RI\"\n",
    "if not os.path.exists(directory):\n",
    "    os.makedirs(directory)\n",
    "vest20_df.to_file(\"./RI/RI.shp\")"
   ]
  },
  {
   "cell_type": "code",
   "execution_count": null,
   "metadata": {},
   "outputs": [],
   "source": []
  }
 ],
 "metadata": {
  "kernelspec": {
   "display_name": "Python (gerry)",
   "language": "python",
   "name": "gerry"
  },
  "language_info": {
   "codemirror_mode": {
    "name": "ipython",
    "version": 3
   },
   "file_extension": ".py",
   "mimetype": "text/x-python",
   "name": "python",
   "nbconvert_exporter": "python",
   "pygments_lexer": "ipython3",
   "version": "3.11.4"
  }
 },
 "nbformat": 4,
 "nbformat_minor": 4
}
